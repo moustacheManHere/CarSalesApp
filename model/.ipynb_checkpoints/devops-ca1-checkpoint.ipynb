{
 "cells": [
  {
   "cell_type": "code",
   "execution_count": 2,
   "metadata": {
    "execution": {
     "iopub.execute_input": "2023-12-03T01:40:38.147612Z",
     "iopub.status.busy": "2023-12-03T01:40:38.147062Z",
     "iopub.status.idle": "2023-12-03T01:40:41.352572Z",
     "shell.execute_reply": "2023-12-03T01:40:41.351347Z",
     "shell.execute_reply.started": "2023-12-03T01:40:38.147557Z"
    }
   },
   "outputs": [],
   "source": [
    "import pandas as pd\n",
    "import numpy as np\n",
    "import matplotlib.pyplot as plt\n",
    "import seaborn as sns\n",
    "import os\n",
    "import time\n",
    "\n",
    "# Preprocessing\n",
    "from sklearn.compose import ColumnTransformer\n",
    "from sklearn.pipeline import Pipeline\n",
    "from sklearn.impute import SimpleImputer\n",
    "from sklearn.preprocessing import (\n",
    "    StandardScaler,\n",
    "    OneHotEncoder,\n",
    "    OrdinalEncoder,\n",
    "    FunctionTransformer,\n",
    ")\n",
    "\n",
    "# Models\n",
    "from sklearn.ensemble import (\n",
    "    RandomForestRegressor,\n",
    "    GradientBoostingRegressor,\n",
    "    ExtraTreesRegressor,\n",
    "    AdaBoostRegressor,\n",
    "    VotingRegressor,\n",
    ")\n",
    "from sklearn.linear_model import LinearRegression, Ridge, ElasticNet, Lasso\n",
    "from sklearn.neighbors import KNeighborsRegressor\n",
    "from sklearn.svm import SVR\n",
    "from sklearn.gaussian_process import GaussianProcessRegressor\n",
    "from sklearn.dummy import DummyRegressor\n",
    "from lightgbm import LGBMRegressor\n",
    "\n",
    "# Model Selection\n",
    "from sklearn.model_selection import (\n",
    "    train_test_split,\n",
    "    GridSearchCV,\n",
    "    RandomizedSearchCV,\n",
    "    cross_validate,\n",
    "    learning_curve,\n",
    ")\n",
    "\n",
    "# Metrics and Others\n",
    "from sklearn.metrics import r2_score, mean_absolute_percentage_error\n",
    "from sklearn.metrics.pairwise import cosine_similarity\n",
    "import pickle"
   ]
  },
  {
   "cell_type": "code",
   "execution_count": 4,
   "metadata": {
    "execution": {
     "iopub.execute_input": "2023-12-03T01:40:41.355303Z",
     "iopub.status.busy": "2023-12-03T01:40:41.354710Z",
     "iopub.status.idle": "2023-12-03T01:40:41.813632Z",
     "shell.execute_reply": "2023-12-03T01:40:41.812388Z",
     "shell.execute_reply.started": "2023-12-03T01:40:41.355267Z"
    }
   },
   "outputs": [],
   "source": [
    "df = pd.DataFrame()  # Initialize an empty DataFrame to store the combined data\n",
    "files = [\n",
    "    \"./data/audi.csv\",\n",
    "    \"./data/toyota.csv\",\n",
    "    \"./data/skoda.csv\",\n",
    "    \"./data/ford.csv\",\n",
    "    \"./data/vauxhall.csv\",\n",
    "    \"./data/bmw.csv\",\n",
    "    \"./data/vw.csv\",\n",
    "    \"./data/merc.csv\",\n",
    "]\n",
    "\n",
    "for file in files:\n",
    "    temp_df = pd.read_csv(file)\n",
    "    temp_df[\"brand\"] = os.path.basename(file).split(\".\")[0]\n",
    "    df = pd.concat([df, temp_df], ignore_index=True)\n",
    "hyundi = pd.read_csv(\"./data/hyundi.csv\")\n",
    "hyundi = hyundi.rename(columns={\"tax(£)\": \"tax\"})\n",
    "hyundi[\"brand\"] = \"hyundi\"\n",
    "df = pd.concat([df, hyundi], ignore_index=True)"
   ]
  },
  {
   "cell_type": "markdown",
   "metadata": {},
   "source": [
    "# Exploratory Data Analysis"
   ]
  },
  {
   "cell_type": "code",
   "execution_count": 5,
   "metadata": {
    "execution": {
     "iopub.execute_input": "2023-12-03T01:40:41.815573Z",
     "iopub.status.busy": "2023-12-03T01:40:41.815141Z",
     "iopub.status.idle": "2023-12-03T01:40:41.842372Z",
     "shell.execute_reply": "2023-12-03T01:40:41.840939Z",
     "shell.execute_reply.started": "2023-12-03T01:40:41.815488Z"
    }
   },
   "outputs": [
    {
     "data": {
      "text/html": [
       "<div>\n",
       "<style scoped>\n",
       "    .dataframe tbody tr th:only-of-type {\n",
       "        vertical-align: middle;\n",
       "    }\n",
       "\n",
       "    .dataframe tbody tr th {\n",
       "        vertical-align: top;\n",
       "    }\n",
       "\n",
       "    .dataframe thead th {\n",
       "        text-align: right;\n",
       "    }\n",
       "</style>\n",
       "<table border=\"1\" class=\"dataframe\">\n",
       "  <thead>\n",
       "    <tr style=\"text-align: right;\">\n",
       "      <th></th>\n",
       "      <th>model</th>\n",
       "      <th>year</th>\n",
       "      <th>price</th>\n",
       "      <th>transmission</th>\n",
       "      <th>mileage</th>\n",
       "      <th>fuelType</th>\n",
       "      <th>tax</th>\n",
       "      <th>mpg</th>\n",
       "      <th>engineSize</th>\n",
       "      <th>brand</th>\n",
       "    </tr>\n",
       "  </thead>\n",
       "  <tbody>\n",
       "    <tr>\n",
       "      <th>0</th>\n",
       "      <td>A1</td>\n",
       "      <td>2017</td>\n",
       "      <td>12500</td>\n",
       "      <td>Manual</td>\n",
       "      <td>15735</td>\n",
       "      <td>Petrol</td>\n",
       "      <td>150</td>\n",
       "      <td>55.4</td>\n",
       "      <td>1.4</td>\n",
       "      <td>audi</td>\n",
       "    </tr>\n",
       "    <tr>\n",
       "      <th>1</th>\n",
       "      <td>A6</td>\n",
       "      <td>2016</td>\n",
       "      <td>16500</td>\n",
       "      <td>Automatic</td>\n",
       "      <td>36203</td>\n",
       "      <td>Diesel</td>\n",
       "      <td>20</td>\n",
       "      <td>64.2</td>\n",
       "      <td>2.0</td>\n",
       "      <td>audi</td>\n",
       "    </tr>\n",
       "    <tr>\n",
       "      <th>2</th>\n",
       "      <td>A1</td>\n",
       "      <td>2016</td>\n",
       "      <td>11000</td>\n",
       "      <td>Manual</td>\n",
       "      <td>29946</td>\n",
       "      <td>Petrol</td>\n",
       "      <td>30</td>\n",
       "      <td>55.4</td>\n",
       "      <td>1.4</td>\n",
       "      <td>audi</td>\n",
       "    </tr>\n",
       "    <tr>\n",
       "      <th>3</th>\n",
       "      <td>A4</td>\n",
       "      <td>2017</td>\n",
       "      <td>16800</td>\n",
       "      <td>Automatic</td>\n",
       "      <td>25952</td>\n",
       "      <td>Diesel</td>\n",
       "      <td>145</td>\n",
       "      <td>67.3</td>\n",
       "      <td>2.0</td>\n",
       "      <td>audi</td>\n",
       "    </tr>\n",
       "    <tr>\n",
       "      <th>4</th>\n",
       "      <td>A3</td>\n",
       "      <td>2019</td>\n",
       "      <td>17300</td>\n",
       "      <td>Manual</td>\n",
       "      <td>1998</td>\n",
       "      <td>Petrol</td>\n",
       "      <td>145</td>\n",
       "      <td>49.6</td>\n",
       "      <td>1.0</td>\n",
       "      <td>audi</td>\n",
       "    </tr>\n",
       "  </tbody>\n",
       "</table>\n",
       "</div>"
      ],
      "text/plain": [
       "  model  year  price transmission  mileage fuelType  tax   mpg  engineSize  \\\n",
       "0    A1  2017  12500       Manual    15735   Petrol  150  55.4         1.4   \n",
       "1    A6  2016  16500    Automatic    36203   Diesel   20  64.2         2.0   \n",
       "2    A1  2016  11000       Manual    29946   Petrol   30  55.4         1.4   \n",
       "3    A4  2017  16800    Automatic    25952   Diesel  145  67.3         2.0   \n",
       "4    A3  2019  17300       Manual     1998   Petrol  145  49.6         1.0   \n",
       "\n",
       "  brand  \n",
       "0  audi  \n",
       "1  audi  \n",
       "2  audi  \n",
       "3  audi  \n",
       "4  audi  "
      ]
     },
     "execution_count": 5,
     "metadata": {},
     "output_type": "execute_result"
    }
   ],
   "source": [
    "df.head()"
   ]
  },
  {
   "cell_type": "code",
   "execution_count": 6,
   "metadata": {
    "execution": {
     "iopub.execute_input": "2023-12-03T01:40:41.846400Z",
     "iopub.status.busy": "2023-12-03T01:40:41.845902Z",
     "iopub.status.idle": "2023-12-03T01:40:41.912530Z",
     "shell.execute_reply": "2023-12-03T01:40:41.911330Z",
     "shell.execute_reply.started": "2023-12-03T01:40:41.846354Z"
    }
   },
   "outputs": [
    {
     "data": {
      "text/html": [
       "<div>\n",
       "<style scoped>\n",
       "    .dataframe tbody tr th:only-of-type {\n",
       "        vertical-align: middle;\n",
       "    }\n",
       "\n",
       "    .dataframe tbody tr th {\n",
       "        vertical-align: top;\n",
       "    }\n",
       "\n",
       "    .dataframe thead th {\n",
       "        text-align: right;\n",
       "    }\n",
       "</style>\n",
       "<table border=\"1\" class=\"dataframe\">\n",
       "  <thead>\n",
       "    <tr style=\"text-align: right;\">\n",
       "      <th></th>\n",
       "      <th>year</th>\n",
       "      <th>price</th>\n",
       "      <th>mileage</th>\n",
       "      <th>tax</th>\n",
       "      <th>mpg</th>\n",
       "      <th>engineSize</th>\n",
       "    </tr>\n",
       "  </thead>\n",
       "  <tbody>\n",
       "    <tr>\n",
       "      <th>count</th>\n",
       "      <td>99187.000000</td>\n",
       "      <td>99187.000000</td>\n",
       "      <td>99187.000000</td>\n",
       "      <td>99187.000000</td>\n",
       "      <td>99187.000000</td>\n",
       "      <td>99187.000000</td>\n",
       "    </tr>\n",
       "    <tr>\n",
       "      <th>mean</th>\n",
       "      <td>2017.087723</td>\n",
       "      <td>16805.347656</td>\n",
       "      <td>23058.914213</td>\n",
       "      <td>120.299838</td>\n",
       "      <td>55.166825</td>\n",
       "      <td>1.663280</td>\n",
       "    </tr>\n",
       "    <tr>\n",
       "      <th>std</th>\n",
       "      <td>2.123934</td>\n",
       "      <td>9866.773417</td>\n",
       "      <td>21148.523721</td>\n",
       "      <td>63.150926</td>\n",
       "      <td>16.138522</td>\n",
       "      <td>0.557646</td>\n",
       "    </tr>\n",
       "    <tr>\n",
       "      <th>min</th>\n",
       "      <td>1970.000000</td>\n",
       "      <td>450.000000</td>\n",
       "      <td>1.000000</td>\n",
       "      <td>0.000000</td>\n",
       "      <td>0.300000</td>\n",
       "      <td>0.000000</td>\n",
       "    </tr>\n",
       "    <tr>\n",
       "      <th>25%</th>\n",
       "      <td>2016.000000</td>\n",
       "      <td>9999.000000</td>\n",
       "      <td>7425.000000</td>\n",
       "      <td>125.000000</td>\n",
       "      <td>47.100000</td>\n",
       "      <td>1.200000</td>\n",
       "    </tr>\n",
       "    <tr>\n",
       "      <th>50%</th>\n",
       "      <td>2017.000000</td>\n",
       "      <td>14495.000000</td>\n",
       "      <td>17460.000000</td>\n",
       "      <td>145.000000</td>\n",
       "      <td>54.300000</td>\n",
       "      <td>1.600000</td>\n",
       "    </tr>\n",
       "    <tr>\n",
       "      <th>75%</th>\n",
       "      <td>2019.000000</td>\n",
       "      <td>20870.000000</td>\n",
       "      <td>32339.000000</td>\n",
       "      <td>145.000000</td>\n",
       "      <td>62.800000</td>\n",
       "      <td>2.000000</td>\n",
       "    </tr>\n",
       "    <tr>\n",
       "      <th>max</th>\n",
       "      <td>2060.000000</td>\n",
       "      <td>159999.000000</td>\n",
       "      <td>323000.000000</td>\n",
       "      <td>580.000000</td>\n",
       "      <td>470.800000</td>\n",
       "      <td>6.600000</td>\n",
       "    </tr>\n",
       "  </tbody>\n",
       "</table>\n",
       "</div>"
      ],
      "text/plain": [
       "               year          price        mileage           tax           mpg  \\\n",
       "count  99187.000000   99187.000000   99187.000000  99187.000000  99187.000000   \n",
       "mean    2017.087723   16805.347656   23058.914213    120.299838     55.166825   \n",
       "std        2.123934    9866.773417   21148.523721     63.150926     16.138522   \n",
       "min     1970.000000     450.000000       1.000000      0.000000      0.300000   \n",
       "25%     2016.000000    9999.000000    7425.000000    125.000000     47.100000   \n",
       "50%     2017.000000   14495.000000   17460.000000    145.000000     54.300000   \n",
       "75%     2019.000000   20870.000000   32339.000000    145.000000     62.800000   \n",
       "max     2060.000000  159999.000000  323000.000000    580.000000    470.800000   \n",
       "\n",
       "         engineSize  \n",
       "count  99187.000000  \n",
       "mean       1.663280  \n",
       "std        0.557646  \n",
       "min        0.000000  \n",
       "25%        1.200000  \n",
       "50%        1.600000  \n",
       "75%        2.000000  \n",
       "max        6.600000  "
      ]
     },
     "execution_count": 6,
     "metadata": {},
     "output_type": "execute_result"
    }
   ],
   "source": [
    "df.describe()"
   ]
  },
  {
   "cell_type": "code",
   "execution_count": 7,
   "metadata": {
    "execution": {
     "iopub.execute_input": "2023-12-03T01:40:41.913900Z",
     "iopub.status.busy": "2023-12-03T01:40:41.913568Z",
     "iopub.status.idle": "2023-12-03T01:40:41.968962Z",
     "shell.execute_reply": "2023-12-03T01:40:41.967728Z",
     "shell.execute_reply.started": "2023-12-03T01:40:41.913872Z"
    }
   },
   "outputs": [
    {
     "data": {
      "text/plain": [
       "model           0\n",
       "year            0\n",
       "price           0\n",
       "transmission    0\n",
       "mileage         0\n",
       "fuelType        0\n",
       "tax             0\n",
       "mpg             0\n",
       "engineSize      0\n",
       "brand           0\n",
       "dtype: int64"
      ]
     },
     "execution_count": 7,
     "metadata": {},
     "output_type": "execute_result"
    }
   ],
   "source": [
    "df.isna().sum()"
   ]
  },
  {
   "cell_type": "code",
   "execution_count": 8,
   "metadata": {
    "execution": {
     "iopub.execute_input": "2023-12-03T01:40:41.970972Z",
     "iopub.status.busy": "2023-12-03T01:40:41.970584Z",
     "iopub.status.idle": "2023-12-03T01:40:42.995411Z",
     "shell.execute_reply": "2023-12-03T01:40:42.993958Z",
     "shell.execute_reply.started": "2023-12-03T01:40:41.970940Z"
    }
   },
   "outputs": [
    {
     "data": {
      "image/png": "[encoded data removed]",
      "text/plain": [
       "<Figure size 1600x400 with 3 Axes>"
      ]
     },
     "metadata": {},
     "output_type": "display_data"
    }
   ],
   "source": [
    "fig, axes = plt.subplots(nrows=1, ncols=3, figsize=(16, 4))\n",
    "\n",
    "sns.barplot(\n",
    "    y=df[\"brand\"].value_counts().values, x=df[\"brand\"].value_counts().index, ax=axes[0]\n",
    ")\n",
    "axes[0].set_xlabel(\"Brand\")\n",
    "axes[0].set_ylabel(\"Count\")\n",
    "axes[0].set_title(\"Value Counts of Brand Column\")\n",
    "\n",
    "sns.barplot(\n",
    "    y=df[\"fuelType\"].value_counts().values,\n",
    "    x=df[\"fuelType\"].value_counts().index,\n",
    "    ax=axes[1],\n",
    ")\n",
    "axes[1].set_xlabel(\"Fuel Type\")\n",
    "axes[1].set_ylabel(\"Count\")\n",
    "axes[1].set_title(\"Value Counts of Fuel Type Column\")\n",
    "\n",
    "sns.barplot(\n",
    "    y=df[\"transmission\"].value_counts().values,\n",
    "    x=df[\"transmission\"].value_counts().index,\n",
    "    ax=axes[2],\n",
    ")\n",
    "axes[2].set_xlabel(\"Transmission\")\n",
    "axes[2].set_ylabel(\"Count\")\n",
    "axes[2].set_title(\"Value Counts of Transmission Column\")\n",
    "\n",
    "plt.tight_layout()\n",
    "plt.show()"
   ]
  },
  {
   "cell_type": "markdown",
   "metadata": {},
   "source": [
    "Will remove other and electric vehicles as they dont account for much and add more columns. Will also remove other transmissions."
   ]
  },
  {
   "cell_type": "code",
   "execution_count": 9,
   "metadata": {
    "execution": {
     "iopub.execute_input": "2023-12-03T01:40:42.998040Z",
     "iopub.status.busy": "2023-12-03T01:40:42.997544Z",
     "iopub.status.idle": "2023-12-03T01:40:44.398542Z",
     "shell.execute_reply": "2023-12-03T01:40:44.397351Z",
     "shell.execute_reply.started": "2023-12-03T01:40:42.997998Z"
    }
   },
   "outputs": [
    {
     "data": {
      "image/png": "[encoded data removed]",
      "text/plain": [
       "<Figure size 640x480 with 1 Axes>"
      ]
     },
     "metadata": {},
     "output_type": "display_data"
    }
   ],
   "source": [
    "sns.barplot(\n",
    "    y=df[\"model\"].value_counts()[::-1].cumsum().values,\n",
    "    x=df[\"model\"].value_counts()[::-1].cumsum().index,\n",
    ")\n",
    "plt.xticks([])\n",
    "plt.title(\"Contribution of classes to data\")\n",
    "plt.show()"
   ]
  },
  {
   "cell_type": "markdown",
   "metadata": {},
   "source": [
    "If we remove classes with less than 20000, we will reduce columns by 75% but only lose 25% of the data"
   ]
  },
  {
   "cell_type": "code",
   "execution_count": 10,
   "metadata": {
    "execution": {
     "iopub.execute_input": "2023-12-03T01:40:44.401231Z",
     "iopub.status.busy": "2023-12-03T01:40:44.400428Z",
     "iopub.status.idle": "2023-12-03T01:40:44.869265Z",
     "shell.execute_reply": "2023-12-03T01:40:44.867875Z",
     "shell.execute_reply.started": "2023-12-03T01:40:44.401187Z"
    }
   },
   "outputs": [
    {
     "data": {
      "image/png": "[encoded data removed]",
      "text/plain": [
       "<Figure size 1600x500 with 1 Axes>"
      ]
     },
     "metadata": {},
     "output_type": "display_data"
    }
   ],
   "source": [
    "plt.figure(figsize=(16, 5))\n",
    "sns.countplot(df, x=\"year\")\n",
    "plt.show()"
   ]
  },
  {
   "cell_type": "markdown",
   "metadata": {},
   "source": [
    "Again, there is a outlier at 2060. We should convert this into age of car for better acc. 1970 seems abit too old, we will remove it too while keeping 1996 and above. "
   ]
  },
  {
   "cell_type": "code",
   "execution_count": 11,
   "metadata": {
    "execution": {
     "iopub.execute_input": "2023-12-03T01:40:44.871478Z",
     "iopub.status.busy": "2023-12-03T01:40:44.870979Z",
     "iopub.status.idle": "2023-12-03T01:40:45.931118Z",
     "shell.execute_reply": "2023-12-03T01:40:45.929889Z",
     "shell.execute_reply.started": "2023-12-03T01:40:44.871429Z"
    }
   },
   "outputs": [
    {
     "data": {
      "image/png": "[encoded data removed]",
      "text/plain": [
       "<Figure size 1600x800 with 5 Axes>"
      ]
     },
     "metadata": {},
     "output_type": "display_data"
    }
   ],
   "source": [
    "plt.figure(figsize=(16, 8))\n",
    "\n",
    "selected_data = df[[\"mileage\", \"price\", \"tax\", \"engineSize\", \"mpg\"]]\n",
    "for i, column in enumerate([\"mileage\", \"price\", \"tax\"]):\n",
    "    plt.subplot(2, 3, i + 1)\n",
    "    sns.boxplot(data=selected_data, x=column)\n",
    "    plt.title(f\"Histogram of {column}\")\n",
    "\n",
    "for i, column in enumerate([\"engineSize\", \"mpg\"], 3):\n",
    "    plt.subplot(2, 3, i + 1)\n",
    "    sns.boxplot(data=selected_data, x=column)\n",
    "    plt.title(f\"Histogram of {column}\")\n",
    "\n",
    "plt.tight_layout()\n",
    "plt.show()"
   ]
  },
  {
   "cell_type": "markdown",
   "metadata": {},
   "source": [
    "MPG of 400 is a error as the max is usually around 220. Engine size of 0 is also an error as it just sounds wrong. We will remove both. Rest of the columns seem ok but slightly skewed. So might consider log transforming mileage. Tax abit hard to deal with as it has zero. "
   ]
  },
  {
   "cell_type": "code",
   "execution_count": 12,
   "metadata": {
    "execution": {
     "iopub.execute_input": "2023-12-03T01:40:45.938000Z",
     "iopub.status.busy": "2023-12-03T01:40:45.937605Z",
     "iopub.status.idle": "2023-12-03T01:40:46.495943Z",
     "shell.execute_reply": "2023-12-03T01:40:46.494740Z",
     "shell.execute_reply.started": "2023-12-03T01:40:45.937969Z"
    }
   },
   "outputs": [
    {
     "data": {
      "image/png": "[encoded data removed]",
      "text/plain": [
       "<Figure size 1000x800 with 2 Axes>"
      ]
     },
     "metadata": {},
     "output_type": "display_data"
    }
   ],
   "source": [
    "corr_matrix = df.select_dtypes(include=\"number\").corr()\n",
    "\n",
    "plt.figure(figsize=(10, 8))\n",
    "sns.heatmap(corr_matrix, annot=True, cmap=\"rocket_r\", fmt=\".2f\", linewidths=0.5)\n",
    "plt.title(\"Correlation Numeric\")\n",
    "plt.show()"
   ]
  },
  {
   "cell_type": "markdown",
   "metadata": {},
   "source": [
    "Most of the predictors do not seem to have high correlation with each other which is good. Price seems to be highly correlated with year and engine size. This makes sense as a newer car and more powerful car would fetch a higher price."
   ]
  },
  {
   "cell_type": "markdown",
   "metadata": {},
   "source": [
    "# Cleaning"
   ]
  },
  {
   "cell_type": "code",
   "execution_count": 13,
   "metadata": {
    "execution": {
     "iopub.execute_input": "2023-12-03T01:40:46.497924Z",
     "iopub.status.busy": "2023-12-03T01:40:46.497487Z",
     "iopub.status.idle": "2023-12-03T01:40:46.649622Z",
     "shell.execute_reply": "2023-12-03T01:40:46.647977Z",
     "shell.execute_reply.started": "2023-12-03T01:40:46.497891Z"
    }
   },
   "outputs": [],
   "source": [
    "df = df[~df[\"fuelType\"].isin([\"Other\", \"Electric\"])]\n",
    "df = df[~df[\"transmission\"].isin([\"Other\"])]\n",
    "df = df[df[\"year\"] > 1990]\n",
    "df = df[df[\"year\"] < 2023]\n",
    "df[\"year\"] = 2023 - df[\"year\"]\n",
    "df = df[df[\"engineSize\"] != 0]\n",
    "df = df[df[\"mpg\"] < 300]\n",
    "df = df[\n",
    "    ~df[\"model\"].isin(\n",
    "        df[\"model\"].value_counts()[df[\"model\"].value_counts() < 200].index\n",
    "    )\n",
    "]"
   ]
  },
  {
   "cell_type": "code",
   "execution_count": 14,
   "metadata": {
    "execution": {
     "iopub.execute_input": "2023-12-03T01:40:46.651852Z",
     "iopub.status.busy": "2023-12-03T01:40:46.651422Z",
     "iopub.status.idle": "2023-12-03T01:40:48.340387Z",
     "shell.execute_reply": "2023-12-03T01:40:48.339107Z",
     "shell.execute_reply.started": "2023-12-03T01:40:46.651817Z"
    }
   },
   "outputs": [],
   "source": [
    "df.to_hdf(\"cars.h5\", key=\"cars\")"
   ]
  },
  {
   "cell_type": "markdown",
   "metadata": {},
   "source": [
    "# Preprocessing Pipeline\n",
    "Here we will one hot the categorical data, scale/log the numeric data and create a new column called age from the year column"
   ]
  },
  {
   "cell_type": "code",
   "execution_count": 15,
   "metadata": {
    "execution": {
     "iopub.execute_input": "2023-12-03T01:40:48.342116Z",
     "iopub.status.busy": "2023-12-03T01:40:48.341761Z",
     "iopub.status.idle": "2023-12-03T01:40:48.360438Z",
     "shell.execute_reply": "2023-12-03T01:40:48.359025Z",
     "shell.execute_reply.started": "2023-12-03T01:40:48.342087Z"
    }
   },
   "outputs": [
    {
     "data": {
      "text/plain": [
       "array(['Petrol', 'Diesel', 'Hybrid'], dtype=object)"
      ]
     },
     "execution_count": 15,
     "metadata": {},
     "output_type": "execute_result"
    }
   ],
   "source": [
    "df[\"fuelType\"].unique()"
   ]
  },
  {
   "cell_type": "code",
   "execution_count": 16,
   "metadata": {
    "execution": {
     "iopub.execute_input": "2023-12-03T01:40:48.362438Z",
     "iopub.status.busy": "2023-12-03T01:40:48.362031Z",
     "iopub.status.idle": "2023-12-03T01:40:48.373440Z",
     "shell.execute_reply": "2023-12-03T01:40:48.371953Z",
     "shell.execute_reply.started": "2023-12-03T01:40:48.362406Z"
    }
   },
   "outputs": [],
   "source": [
    "X = df.drop([\"price\", \"model\"], axis=1)\n",
    "y = df[\"price\"]\n",
    "y = y.values.ravel()"
   ]
  },
  {
   "cell_type": "code",
   "execution_count": 17,
   "metadata": {
    "execution": {
     "iopub.execute_input": "2023-12-03T01:40:48.375970Z",
     "iopub.status.busy": "2023-12-03T01:40:48.375184Z",
     "iopub.status.idle": "2023-12-03T01:40:48.384736Z",
     "shell.execute_reply": "2023-12-03T01:40:48.382949Z",
     "shell.execute_reply.started": "2023-12-03T01:40:48.375914Z"
    }
   },
   "outputs": [],
   "source": [
    "ord_enc = [\"transmission\"]\n",
    "onehot_enc = [\"brand\", \"fuelType\"]\n",
    "\n",
    "scale_trans = [\"mileage\", \"tax\", \"mpg\", \"engineSize\"]\n",
    "\n",
    "preprocessor = ColumnTransformer(\n",
    "    transformers=[\n",
    "        (\n",
    "            \"label_enc\",\n",
    "            OrdinalEncoder(categories=[[\"Manual\", \"Semi-Auto\", \"Automatic\"]]),\n",
    "            ord_enc,\n",
    "        ),\n",
    "        (\"onehot_enc\", OneHotEncoder(), onehot_enc),\n",
    "        (\"scale_trans\", StandardScaler(), scale_trans),\n",
    "    ],\n",
    "    remainder=\"passthrough\",\n",
    ")"
   ]
  },
  {
   "cell_type": "code",
   "execution_count": 18,
   "metadata": {
    "execution": {
     "iopub.execute_input": "2023-12-03T01:40:48.388661Z",
     "iopub.status.busy": "2023-12-03T01:40:48.386756Z",
     "iopub.status.idle": "2023-12-03T01:40:48.427163Z",
     "shell.execute_reply": "2023-12-03T01:40:48.425811Z",
     "shell.execute_reply.started": "2023-12-03T01:40:48.388611Z"
    }
   },
   "outputs": [],
   "source": [
    "X_train, X_test, y_train, y_test = train_test_split(\n",
    "    X, y, train_size=0.70, random_state=99\n",
    ")\n",
    "\n",
    "X_test, X_val, y_test, y_val = train_test_split(\n",
    "    X_test, y_test, train_size=0.5, random_state=99\n",
    ")\n",
    "\n",
    "features = X_train.columns"
   ]
  },
  {
   "cell_type": "markdown",
   "metadata": {},
   "source": [
    "# Model Evaluation"
   ]
  },
  {
   "cell_type": "code",
   "execution_count": 19,
   "metadata": {
    "execution": {
     "iopub.execute_input": "2023-12-03T01:40:48.429163Z",
     "iopub.status.busy": "2023-12-03T01:40:48.428668Z",
     "iopub.status.idle": "2023-12-03T01:40:48.434513Z",
     "shell.execute_reply": "2023-12-03T01:40:48.433653Z",
     "shell.execute_reply.started": "2023-12-03T01:40:48.429131Z"
    }
   },
   "outputs": [],
   "source": [
    "def getPipe(name, model):\n",
    "    pipe = Pipeline([(\"preprocessing\", preprocessor), (name, model)])\n",
    "    return pipe"
   ]
  },
  {
   "cell_type": "code",
   "execution_count": 20,
   "metadata": {
    "execution": {
     "iopub.execute_input": "2023-12-03T01:40:48.435893Z",
     "iopub.status.busy": "2023-12-03T01:40:48.435545Z",
     "iopub.status.idle": "2023-12-03T01:40:48.446112Z",
     "shell.execute_reply": "2023-12-03T01:40:48.444735Z",
     "shell.execute_reply.started": "2023-12-03T01:40:48.435864Z"
    }
   },
   "outputs": [],
   "source": [
    "models = [\n",
    "    (\"AdaBoostRegressor\", AdaBoostRegressor()),\n",
    "    (\"Elasticnet\", ElasticNet()),\n",
    "    (\"ExtraTreesRegressor\", ExtraTreesRegressor()),\n",
    "    (\"GradientBoosting\", GradientBoostingRegressor()),\n",
    "    (\"Lasso\", Lasso()),\n",
    "    (\"LinearRegression\", LinearRegression()),\n",
    "    (\"RandomForest\", RandomForestRegressor()),\n",
    "    (\"Ridge\", Ridge()),\n",
    "]"
   ]
  },
  {
   "cell_type": "code",
   "execution_count": 21,
   "metadata": {
    "execution": {
     "iopub.execute_input": "2023-12-03T01:40:48.447908Z",
     "iopub.status.busy": "2023-12-03T01:40:48.447476Z",
     "iopub.status.idle": "2023-12-03T01:41:44.948622Z",
     "shell.execute_reply": "2023-12-03T01:41:44.946964Z",
     "shell.execute_reply.started": "2023-12-03T01:40:48.447872Z"
    }
   },
   "outputs": [
    {
     "name": "stdout",
     "output_type": "stream",
     "text": [
      "AdaBoostRegressor: Done\n",
      "Elasticnet: Done\n",
      "ExtraTreesRegressor: Done\n",
      "GradientBoosting: Done\n",
      "Lasso: Done\n",
      "LinearRegression: Done\n",
      "RandomForest: Done\n",
      "Ridge: Done\n"
     ]
    },
    {
     "data": {
      "text/html": [
       "<div>\n",
       "<style scoped>\n",
       "    .dataframe tbody tr th:only-of-type {\n",
       "        vertical-align: middle;\n",
       "    }\n",
       "\n",
       "    .dataframe tbody tr th {\n",
       "        vertical-align: top;\n",
       "    }\n",
       "\n",
       "    .dataframe thead th {\n",
       "        text-align: right;\n",
       "    }\n",
       "</style>\n",
       "<table border=\"1\" class=\"dataframe\">\n",
       "  <thead>\n",
       "    <tr style=\"text-align: right;\">\n",
       "      <th></th>\n",
       "      <th>name</th>\n",
       "      <th>r2</th>\n",
       "      <th>mape</th>\n",
       "    </tr>\n",
       "  </thead>\n",
       "  <tbody>\n",
       "    <tr>\n",
       "      <th>0</th>\n",
       "      <td>AdaBoostRegressor</td>\n",
       "      <td>0.561832</td>\n",
       "      <td>0.379821</td>\n",
       "    </tr>\n",
       "    <tr>\n",
       "      <th>1</th>\n",
       "      <td>Elasticnet</td>\n",
       "      <td>0.720060</td>\n",
       "      <td>0.229378</td>\n",
       "    </tr>\n",
       "    <tr>\n",
       "      <th>2</th>\n",
       "      <td>ExtraTreesRegressor</td>\n",
       "      <td>0.945363</td>\n",
       "      <td>0.082342</td>\n",
       "    </tr>\n",
       "    <tr>\n",
       "      <th>3</th>\n",
       "      <td>GradientBoosting</td>\n",
       "      <td>0.901410</td>\n",
       "      <td>0.129191</td>\n",
       "    </tr>\n",
       "    <tr>\n",
       "      <th>4</th>\n",
       "      <td>Lasso</td>\n",
       "      <td>0.797757</td>\n",
       "      <td>0.212168</td>\n",
       "    </tr>\n",
       "    <tr>\n",
       "      <th>5</th>\n",
       "      <td>LinearRegression</td>\n",
       "      <td>0.797793</td>\n",
       "      <td>0.212352</td>\n",
       "    </tr>\n",
       "    <tr>\n",
       "      <th>6</th>\n",
       "      <td>RandomForest</td>\n",
       "      <td>0.949272</td>\n",
       "      <td>0.079728</td>\n",
       "    </tr>\n",
       "    <tr>\n",
       "      <th>7</th>\n",
       "      <td>Ridge</td>\n",
       "      <td>0.797782</td>\n",
       "      <td>0.212236</td>\n",
       "    </tr>\n",
       "  </tbody>\n",
       "</table>\n",
       "</div>"
      ],
      "text/plain": [
       "                  name        r2      mape\n",
       "0    AdaBoostRegressor  0.561832  0.379821\n",
       "1           Elasticnet  0.720060  0.229378\n",
       "2  ExtraTreesRegressor  0.945363  0.082342\n",
       "3     GradientBoosting  0.901410  0.129191\n",
       "4                Lasso  0.797757  0.212168\n",
       "5     LinearRegression  0.797793  0.212352\n",
       "6         RandomForest  0.949272  0.079728\n",
       "7                Ridge  0.797782  0.212236"
      ]
     },
     "execution_count": 21,
     "metadata": {},
     "output_type": "execute_result"
    }
   ],
   "source": [
    "results = []\n",
    "for name, model in models:\n",
    "    pipe = getPipe(name, model)\n",
    "    pipe.fit(X_train, y_train)\n",
    "\n",
    "    y_val_pred = pipe.predict(X_val)\n",
    "\n",
    "    r2 = r2_score(y_val, y_val_pred)\n",
    "    mape = mean_absolute_percentage_error(y_val, y_val_pred)\n",
    "\n",
    "    needed = {\"name\": name, \"r2\": r2, \"mape\": mape}\n",
    "\n",
    "    results.append(needed)\n",
    "    print(f\"{name}: Done\")\n",
    "result_df = pd.DataFrame(results)\n",
    "result_df"
   ]
  },
  {
   "cell_type": "markdown",
   "metadata": {},
   "source": [
    "Out of all the models, both extratrees regressor and random forest regressor seem to perform very well. Gradient boosting performed ok."
   ]
  },
  {
   "cell_type": "code",
   "execution_count": 22,
   "metadata": {
    "execution": {
     "iopub.execute_input": "2023-12-03T01:41:44.952297Z",
     "iopub.status.busy": "2023-12-03T01:41:44.951320Z",
     "iopub.status.idle": "2023-12-03T01:42:37.642288Z",
     "shell.execute_reply": "2023-12-03T01:42:37.640953Z",
     "shell.execute_reply.started": "2023-12-03T01:41:44.952225Z"
    }
   },
   "outputs": [
    {
     "name": "stdout",
     "output_type": "stream",
     "text": [
      "Voting Regressor\n",
      "R2: 0.9488956222712608\n",
      "MAPE: 0.08500218878528085\n"
     ]
    }
   ],
   "source": [
    "voting_regressor = VotingRegressor(\n",
    "    estimators=[\n",
    "        (\"ExtraTreesRegressor\", ExtraTreesRegressor()),\n",
    "        (\"GradientBoosting\", GradientBoostingRegressor()),\n",
    "        (\"RandomForest\", RandomForestRegressor()),\n",
    "    ]\n",
    ")\n",
    "vote_pipe = getPipe(\"voting_regressor\", voting_regressor)\n",
    "vote_pipe.fit(X_train, y_train)\n",
    "\n",
    "y_val_pred = vote_pipe.predict(X_val)\n",
    "\n",
    "r2 = r2_score(y_val, y_val_pred)\n",
    "mape = mean_absolute_percentage_error(y_val, y_val_pred)\n",
    "\n",
    "print(\"Voting Regressor\")\n",
    "print(f\"R2: {r2}\")\n",
    "print(f\"MAPE: {mape}\")"
   ]
  },
  {
   "cell_type": "markdown",
   "metadata": {},
   "source": [
    "Performs slighlty worse than random forest while being more complex. I am very concerned with how long these models take to run. Therefore I would like to use LightGBM which is a fast but effective algorithm."
   ]
  },
  {
   "cell_type": "code",
   "execution_count": 23,
   "metadata": {
    "execution": {
     "iopub.execute_input": "2023-12-03T01:42:37.645258Z",
     "iopub.status.busy": "2023-12-03T01:42:37.644048Z",
     "iopub.status.idle": "2023-12-03T01:42:38.799084Z",
     "shell.execute_reply": "2023-12-03T01:42:38.797887Z",
     "shell.execute_reply.started": "2023-12-03T01:42:37.645209Z"
    }
   },
   "outputs": [
    {
     "name": "stdout",
     "output_type": "stream",
     "text": [
      "LightGBM Regressor\n",
      "R2: 0.9392643657067584\n",
      "MAPE: 0.09735651323184125\n"
     ]
    }
   ],
   "source": [
    "lgbm_regressor = LGBMRegressor()\n",
    "lgbm_pipe = getPipe(\"lgbm_regressor\", lgbm_regressor)\n",
    "lgbm_pipe.fit(X_train, y_train)\n",
    "\n",
    "y_val_pred = lgbm_pipe.predict(X_val)\n",
    "\n",
    "r2 = r2_score(y_val, y_val_pred)\n",
    "mape = mean_absolute_percentage_error(y_val, y_val_pred)\n",
    "\n",
    "print(\"LightGBM Regressor\")\n",
    "print(f\"R2: {r2}\")\n",
    "print(f\"MAPE: {mape}\")"
   ]
  },
  {
   "cell_type": "markdown",
   "metadata": {},
   "source": [
    "It performs just as well as RandomForest. I would also like to compare their training time differences."
   ]
  },
  {
   "cell_type": "code",
   "execution_count": 24,
   "metadata": {
    "execution": {
     "iopub.execute_input": "2023-12-03T01:42:38.801885Z",
     "iopub.status.busy": "2023-12-03T01:42:38.801164Z",
     "iopub.status.idle": "2023-12-03T01:43:05.845771Z",
     "shell.execute_reply": "2023-12-03T01:43:05.844737Z",
     "shell.execute_reply.started": "2023-12-03T01:42:38.801842Z"
    }
   },
   "outputs": [
    {
     "name": "stdout",
     "output_type": "stream",
     "text": [
      "Fit Time: 37.1690 seconds - Random Forest\n",
      "Fit Time: 0.5411 seconds - LightGBM\n",
      "Predict Time: 0.7888 seconds - Random Forest\n",
      "Predict Time: 0.0490 seconds - LightGBM\n"
     ]
    }
   ],
   "source": [
    "rf_regressor = getPipe(\"Random Forest\", RandomForestRegressor())\n",
    "lgbm_regressor = getPipe(\"LightGBM\", LGBMRegressor())\n",
    "\n",
    "start_time_fit = time.time()\n",
    "rf_regressor.fit(X_train, y_train)\n",
    "fit_time_rf = time.time() - start_time_fit\n",
    "\n",
    "start_time_fit = time.time()\n",
    "lgbm_regressor.fit(X_train, y_train)\n",
    "fit_time_lgbm = time.time() - start_time_fit\n",
    "\n",
    "start_time_predict = time.time()\n",
    "y_val_pred = rf_regressor.predict(X_val)\n",
    "predict_time_rf = time.time() - start_time_predict\n",
    "\n",
    "start_time_predict = time.time()\n",
    "y_val_pred = lgbm_regressor.predict(X_val)\n",
    "predict_time_lgbm = time.time() - start_time_predict\n",
    "\n",
    "\n",
    "print(f\"Fit Time: {fit_time_rf:.4f} seconds - Random Forest\")\n",
    "print(f\"Fit Time: {fit_time_lgbm:.4f} seconds - LightGBM\")\n",
    "\n",
    "print(f\"Predict Time: {predict_time_rf:.4f} seconds - Random Forest\")\n",
    "print(f\"Predict Time: {predict_time_lgbm:.4f} seconds - LightGBM\")"
   ]
  },
  {
   "cell_type": "markdown",
   "metadata": {},
   "source": [
    "As you can see LightGBM fits 30 times faster and predicts 11 times faster than random forest even though their accuracy is around the same.\n",
    "\n",
    "Since for our flask app, speed is very important for a good user experience, I will use LightGBM for my final model."
   ]
  },
  {
   "cell_type": "markdown",
   "metadata": {},
   "source": [
    "# Tuning"
   ]
  },
  {
   "cell_type": "code",
   "execution_count": 25,
   "metadata": {
    "execution": {
     "iopub.execute_input": "2023-12-03T01:43:05.847712Z",
     "iopub.status.busy": "2023-12-03T01:43:05.847137Z",
     "iopub.status.idle": "2023-12-03T01:43:05.889165Z",
     "shell.execute_reply": "2023-12-03T01:43:05.888124Z",
     "shell.execute_reply.started": "2023-12-03T01:43:05.847679Z"
    }
   },
   "outputs": [
    {
     "data": {
      "text/html": [
       "<style>#sk-container-id-1 {color: black;background-color: white;}#sk-container-id-1 pre{padding: 0;}#sk-container-id-1 div.sk-toggleable {background-color: white;}#sk-container-id-1 label.sk-toggleable__label {cursor: pointer;display: block;width: 100%;margin-bottom: 0;padding: 0.3em;box-sizing: border-box;text-align: center;}#sk-container-id-1 label.sk-toggleable__label-arrow:before {content: \"▸\";float: left;margin-right: 0.25em;color: #696969;}#sk-container-id-1 label.sk-toggleable__label-arrow:hover:before {color: black;}#sk-container-id-1 div.sk-estimator:hover label.sk-toggleable__label-arrow:before {color: black;}#sk-container-id-1 div.sk-toggleable__content {max-height: 0;max-width: 0;overflow: hidden;text-align: left;background-color: #f0f8ff;}#sk-container-id-1 div.sk-toggleable__content pre {margin: 0.2em;color: black;border-radius: 0.25em;background-color: #f0f8ff;}#sk-container-id-1 input.sk-toggleable__control:checked~div.sk-toggleable__content {max-height: 200px;max-width: 100%;overflow: auto;}#sk-container-id-1 input.sk-toggleable__control:checked~label.sk-toggleable__label-arrow:before {content: \"▾\";}#sk-container-id-1 div.sk-estimator input.sk-toggleable__control:checked~label.sk-toggleable__label {background-color: #d4ebff;}#sk-container-id-1 div.sk-label input.sk-toggleable__control:checked~label.sk-toggleable__label {background-color: #d4ebff;}#sk-container-id-1 input.sk-hidden--visually {border: 0;clip: rect(1px 1px 1px 1px);clip: rect(1px, 1px, 1px, 1px);height: 1px;margin: -1px;overflow: hidden;padding: 0;position: absolute;width: 1px;}#sk-container-id-1 div.sk-estimator {font-family: monospace;background-color: #f0f8ff;border: 1px dotted black;border-radius: 0.25em;box-sizing: border-box;margin-bottom: 0.5em;}#sk-container-id-1 div.sk-estimator:hover {background-color: #d4ebff;}#sk-container-id-1 div.sk-parallel-item::after {content: \"\";width: 100%;border-bottom: 1px solid gray;flex-grow: 1;}#sk-container-id-1 div.sk-label:hover label.sk-toggleable__label {background-color: #d4ebff;}#sk-container-id-1 div.sk-serial::before {content: \"\";position: absolute;border-left: 1px solid gray;box-sizing: border-box;top: 0;bottom: 0;left: 50%;z-index: 0;}#sk-container-id-1 div.sk-serial {display: flex;flex-direction: column;align-items: center;background-color: white;padding-right: 0.2em;padding-left: 0.2em;position: relative;}#sk-container-id-1 div.sk-item {position: relative;z-index: 1;}#sk-container-id-1 div.sk-parallel {display: flex;align-items: stretch;justify-content: center;background-color: white;position: relative;}#sk-container-id-1 div.sk-item::before, #sk-container-id-1 div.sk-parallel-item::before {content: \"\";position: absolute;border-left: 1px solid gray;box-sizing: border-box;top: 0;bottom: 0;left: 50%;z-index: -1;}#sk-container-id-1 div.sk-parallel-item {display: flex;flex-direction: column;z-index: 1;position: relative;background-color: white;}#sk-container-id-1 div.sk-parallel-item:first-child::after {align-self: flex-end;width: 50%;}#sk-container-id-1 div.sk-parallel-item:last-child::after {align-self: flex-start;width: 50%;}#sk-container-id-1 div.sk-parallel-item:only-child::after {width: 0;}#sk-container-id-1 div.sk-dashed-wrapped {border: 1px dashed gray;margin: 0 0.4em 0.5em 0.4em;box-sizing: border-box;padding-bottom: 0.4em;background-color: white;}#sk-container-id-1 div.sk-label label {font-family: monospace;font-weight: bold;display: inline-block;line-height: 1.2em;}#sk-container-id-1 div.sk-label-container {text-align: center;}#sk-container-id-1 div.sk-container {/* jupyter's `normalize.less` sets `[hidden] { display: none; }` but bootstrap.min.css set `[hidden] { display: none !important; }` so we also need the `!important` here to be able to override the default hidden behavior on the sphinx rendered scikit-learn.org. See: https://github.com/scikit-learn/scikit-learn/issues/21755 */display: inline-block !important;position: relative;}#sk-container-id-1 div.sk-text-repr-fallback {display: none;}</style><div id=\"sk-container-id-1\" class=\"sk-top-container\"><div class=\"sk-text-repr-fallback\"><pre>Pipeline(steps=[(&#x27;preprocessing&#x27;,\n",
       "                 ColumnTransformer(remainder=&#x27;passthrough&#x27;,\n",
       "                                   transformers=[(&#x27;label_enc&#x27;,\n",
       "                                                  OrdinalEncoder(categories=[[&#x27;Manual&#x27;,\n",
       "                                                                              &#x27;Semi-Auto&#x27;,\n",
       "                                                                              &#x27;Automatic&#x27;]]),\n",
       "                                                  [&#x27;transmission&#x27;]),\n",
       "                                                 (&#x27;onehot_enc&#x27;, OneHotEncoder(),\n",
       "                                                  [&#x27;brand&#x27;, &#x27;fuelType&#x27;]),\n",
       "                                                 (&#x27;scale_trans&#x27;,\n",
       "                                                  StandardScaler(),\n",
       "                                                  [&#x27;mileage&#x27;, &#x27;tax&#x27;, &#x27;mpg&#x27;,\n",
       "                                                   &#x27;engineSize&#x27;])])),\n",
       "                (&#x27;LightGBM&#x27;, LGBMRegressor())])</pre><b>In a Jupyter environment, please rerun this cell to show the HTML representation or trust the notebook. <br />On GitHub, the HTML representation is unable to render, please try loading this page with nbviewer.org.</b></div><div class=\"sk-container\" hidden><div class=\"sk-item sk-dashed-wrapped\"><div class=\"sk-label-container\"><div class=\"sk-label sk-toggleable\"><input class=\"sk-toggleable__control sk-hidden--visually\" id=\"sk-estimator-id-1\" type=\"checkbox\" ><label for=\"sk-estimator-id-1\" class=\"sk-toggleable__label sk-toggleable__label-arrow\">Pipeline</label><div class=\"sk-toggleable__content\"><pre>Pipeline(steps=[(&#x27;preprocessing&#x27;,\n",
       "                 ColumnTransformer(remainder=&#x27;passthrough&#x27;,\n",
       "                                   transformers=[(&#x27;label_enc&#x27;,\n",
       "                                                  OrdinalEncoder(categories=[[&#x27;Manual&#x27;,\n",
       "                                                                              &#x27;Semi-Auto&#x27;,\n",
       "                                                                              &#x27;Automatic&#x27;]]),\n",
       "                                                  [&#x27;transmission&#x27;]),\n",
       "                                                 (&#x27;onehot_enc&#x27;, OneHotEncoder(),\n",
       "                                                  [&#x27;brand&#x27;, &#x27;fuelType&#x27;]),\n",
       "                                                 (&#x27;scale_trans&#x27;,\n",
       "                                                  StandardScaler(),\n",
       "                                                  [&#x27;mileage&#x27;, &#x27;tax&#x27;, &#x27;mpg&#x27;,\n",
       "                                                   &#x27;engineSize&#x27;])])),\n",
       "                (&#x27;LightGBM&#x27;, LGBMRegressor())])</pre></div></div></div><div class=\"sk-serial\"><div class=\"sk-item sk-dashed-wrapped\"><div class=\"sk-label-container\"><div class=\"sk-label sk-toggleable\"><input class=\"sk-toggleable__control sk-hidden--visually\" id=\"sk-estimator-id-2\" type=\"checkbox\" ><label for=\"sk-estimator-id-2\" class=\"sk-toggleable__label sk-toggleable__label-arrow\">preprocessing: ColumnTransformer</label><div class=\"sk-toggleable__content\"><pre>ColumnTransformer(remainder=&#x27;passthrough&#x27;,\n",
       "                  transformers=[(&#x27;label_enc&#x27;,\n",
       "                                 OrdinalEncoder(categories=[[&#x27;Manual&#x27;,\n",
       "                                                             &#x27;Semi-Auto&#x27;,\n",
       "                                                             &#x27;Automatic&#x27;]]),\n",
       "                                 [&#x27;transmission&#x27;]),\n",
       "                                (&#x27;onehot_enc&#x27;, OneHotEncoder(),\n",
       "                                 [&#x27;brand&#x27;, &#x27;fuelType&#x27;]),\n",
       "                                (&#x27;scale_trans&#x27;, StandardScaler(),\n",
       "                                 [&#x27;mileage&#x27;, &#x27;tax&#x27;, &#x27;mpg&#x27;, &#x27;engineSize&#x27;])])</pre></div></div></div><div class=\"sk-parallel\"><div class=\"sk-parallel-item\"><div class=\"sk-item\"><div class=\"sk-label-container\"><div class=\"sk-label sk-toggleable\"><input class=\"sk-toggleable__control sk-hidden--visually\" id=\"sk-estimator-id-3\" type=\"checkbox\" ><label for=\"sk-estimator-id-3\" class=\"sk-toggleable__label sk-toggleable__label-arrow\">label_enc</label><div class=\"sk-toggleable__content\"><pre>[&#x27;transmission&#x27;]</pre></div></div></div><div class=\"sk-serial\"><div class=\"sk-item\"><div class=\"sk-estimator sk-toggleable\"><input class=\"sk-toggleable__control sk-hidden--visually\" id=\"sk-estimator-id-4\" type=\"checkbox\" ><label for=\"sk-estimator-id-4\" class=\"sk-toggleable__label sk-toggleable__label-arrow\">OrdinalEncoder</label><div class=\"sk-toggleable__content\"><pre>OrdinalEncoder(categories=[[&#x27;Manual&#x27;, &#x27;Semi-Auto&#x27;, &#x27;Automatic&#x27;]])</pre></div></div></div></div></div></div><div class=\"sk-parallel-item\"><div class=\"sk-item\"><div class=\"sk-label-container\"><div class=\"sk-label sk-toggleable\"><input class=\"sk-toggleable__control sk-hidden--visually\" id=\"sk-estimator-id-5\" type=\"checkbox\" ><label for=\"sk-estimator-id-5\" class=\"sk-toggleable__label sk-toggleable__label-arrow\">onehot_enc</label><div class=\"sk-toggleable__content\"><pre>[&#x27;brand&#x27;, &#x27;fuelType&#x27;]</pre></div></div></div><div class=\"sk-serial\"><div class=\"sk-item\"><div class=\"sk-estimator sk-toggleable\"><input class=\"sk-toggleable__control sk-hidden--visually\" id=\"sk-estimator-id-6\" type=\"checkbox\" ><label for=\"sk-estimator-id-6\" class=\"sk-toggleable__label sk-toggleable__label-arrow\">OneHotEncoder</label><div class=\"sk-toggleable__content\"><pre>OneHotEncoder()</pre></div></div></div></div></div></div><div class=\"sk-parallel-item\"><div class=\"sk-item\"><div class=\"sk-label-container\"><div class=\"sk-label sk-toggleable\"><input class=\"sk-toggleable__control sk-hidden--visually\" id=\"sk-estimator-id-7\" type=\"checkbox\" ><label for=\"sk-estimator-id-7\" class=\"sk-toggleable__label sk-toggleable__label-arrow\">scale_trans</label><div class=\"sk-toggleable__content\"><pre>[&#x27;mileage&#x27;, &#x27;tax&#x27;, &#x27;mpg&#x27;, &#x27;engineSize&#x27;]</pre></div></div></div><div class=\"sk-serial\"><div class=\"sk-item\"><div class=\"sk-estimator sk-toggleable\"><input class=\"sk-toggleable__control sk-hidden--visually\" id=\"sk-estimator-id-8\" type=\"checkbox\" ><label for=\"sk-estimator-id-8\" class=\"sk-toggleable__label sk-toggleable__label-arrow\">StandardScaler</label><div class=\"sk-toggleable__content\"><pre>StandardScaler()</pre></div></div></div></div></div></div><div class=\"sk-parallel-item\"><div class=\"sk-item\"><div class=\"sk-label-container\"><div class=\"sk-label sk-toggleable\"><input class=\"sk-toggleable__control sk-hidden--visually\" id=\"sk-estimator-id-9\" type=\"checkbox\" ><label for=\"sk-estimator-id-9\" class=\"sk-toggleable__label sk-toggleable__label-arrow\">remainder</label><div class=\"sk-toggleable__content\"><pre>[&#x27;year&#x27;]</pre></div></div></div><div class=\"sk-serial\"><div class=\"sk-item\"><div class=\"sk-estimator sk-toggleable\"><input class=\"sk-toggleable__control sk-hidden--visually\" id=\"sk-estimator-id-10\" type=\"checkbox\" ><label for=\"sk-estimator-id-10\" class=\"sk-toggleable__label sk-toggleable__label-arrow\">passthrough</label><div class=\"sk-toggleable__content\"><pre>passthrough</pre></div></div></div></div></div></div></div></div><div class=\"sk-item\"><div class=\"sk-estimator sk-toggleable\"><input class=\"sk-toggleable__control sk-hidden--visually\" id=\"sk-estimator-id-11\" type=\"checkbox\" ><label for=\"sk-estimator-id-11\" class=\"sk-toggleable__label sk-toggleable__label-arrow\">LGBMRegressor</label><div class=\"sk-toggleable__content\"><pre>LGBMRegressor()</pre></div></div></div></div></div></div></div>"
      ],
      "text/plain": [
       "Pipeline(steps=[('preprocessing',\n",
       "                 ColumnTransformer(remainder='passthrough',\n",
       "                                   transformers=[('label_enc',\n",
       "                                                  OrdinalEncoder(categories=[['Manual',\n",
       "                                                                              'Semi-Auto',\n",
       "                                                                              'Automatic']]),\n",
       "                                                  ['transmission']),\n",
       "                                                 ('onehot_enc', OneHotEncoder(),\n",
       "                                                  ['brand', 'fuelType']),\n",
       "                                                 ('scale_trans',\n",
       "                                                  StandardScaler(),\n",
       "                                                  ['mileage', 'tax', 'mpg',\n",
       "                                                   'engineSize'])])),\n",
       "                ('LightGBM', LGBMRegressor())])"
      ]
     },
     "execution_count": 25,
     "metadata": {},
     "output_type": "execute_result"
    }
   ],
   "source": [
    "lgbm_regressor"
   ]
  },
  {
   "cell_type": "markdown",
   "metadata": {},
   "source": [
    "## Evaluation\n",
    "Since we are no longer comparing models, I will merge the validation data to the train and use Cross validation to compare the different parameters and score it on the test data to get a feel of how accurate the model is."
   ]
  },
  {
   "cell_type": "code",
   "execution_count": 26,
   "metadata": {
    "execution": {
     "iopub.execute_input": "2023-12-03T01:43:05.891242Z",
     "iopub.status.busy": "2023-12-03T01:43:05.890625Z",
     "iopub.status.idle": "2023-12-03T01:43:05.903351Z",
     "shell.execute_reply": "2023-12-03T01:43:05.902304Z",
     "shell.execute_reply.started": "2023-12-03T01:43:05.891207Z"
    }
   },
   "outputs": [],
   "source": [
    "merged_X_train = pd.concat([X_train, X_val], axis=0, ignore_index=True)\n",
    "merged_y_train = np.concatenate((y_train, y_val))"
   ]
  },
  {
   "cell_type": "code",
   "execution_count": 27,
   "metadata": {
    "execution": {
     "iopub.execute_input": "2023-12-03T01:43:05.905313Z",
     "iopub.status.busy": "2023-12-03T01:43:05.904754Z",
     "iopub.status.idle": "2023-12-03T01:43:53.775324Z",
     "shell.execute_reply": "2023-12-03T01:43:53.774204Z",
     "shell.execute_reply.started": "2023-12-03T01:43:05.905281Z"
    }
   },
   "outputs": [
    {
     "name": "stdout",
     "output_type": "stream",
     "text": [
      "Best Parameters: {'LightGBM__subsample': 0.8, 'LightGBM__reg_alpha': 0.01, 'LightGBM__num_leaves': 100, 'LightGBM__n_estimators': 100, 'LightGBM__min_child_samples': 1, 'LightGBM__max_depth': 20, 'LightGBM__learning_rate': 0.2, 'LightGBM__colsample_bytree': 0.9}\n",
      "R2 on Test Set: 0.9438949546507968\n"
     ]
    }
   ],
   "source": [
    "lgbm_regressor = getPipe(\"LightGBM\", LGBMRegressor())\n",
    "\n",
    "param_dist = {\n",
    "    \"LightGBM__learning_rate\": [0.05, 0.1, 0.2],\n",
    "    \"LightGBM__n_estimators\": [50, 100, 150],\n",
    "    \"LightGBM__max_depth\": [-1, 5, 10, 20],\n",
    "    \"LightGBM__colsample_bytree\": [0.7, 0.8, 0.9],\n",
    "    \"LightGBM__subsample\": [0.7, 0.8, 0.9],\n",
    "    \"LightGBM__min_child_samples\": [1, 5, 10],\n",
    "    \"LightGBM__num_leaves\": [20, 40, 60, 80, 100],\n",
    "    \"LightGBM__reg_alpha\": [0, 0.01, 0.03],\n",
    "}\n",
    "\n",
    "random_search = RandomizedSearchCV(\n",
    "    estimator=lgbm_regressor,\n",
    "    param_distributions=param_dist,\n",
    "    scoring=\"r2\",\n",
    "    n_iter=10,\n",
    "    cv=3,\n",
    "    random_state=99,\n",
    ")\n",
    "\n",
    "random_search.fit(merged_X_train, merged_y_train)\n",
    "\n",
    "best_params = random_search.best_params_\n",
    "best_model = random_search.best_estimator_\n",
    "\n",
    "y_pred = best_model.predict(X_test)\n",
    "\n",
    "r2 = r2_score(y_test, y_pred)\n",
    "print(f\"Best Parameters: {best_params}\")\n",
    "print(f\"R2 on Test Set: {r2}\")"
   ]
  },
  {
   "cell_type": "markdown",
   "metadata": {},
   "source": [
    "Model performs very well on test set with 93% accuracy."
   ]
  },
  {
   "cell_type": "markdown",
   "metadata": {},
   "source": [
    "## Production Model\n",
    "\n",
    "For the final production model, we will use the entire dataset as we want to maximise the information the model knows. I will save the pipeline using pickle."
   ]
  },
  {
   "cell_type": "code",
   "execution_count": 28,
   "metadata": {
    "execution": {
     "iopub.execute_input": "2023-12-03T01:43:53.777536Z",
     "iopub.status.busy": "2023-12-03T01:43:53.777142Z",
     "iopub.status.idle": "2023-12-03T01:43:53.787379Z",
     "shell.execute_reply": "2023-12-03T01:43:53.785740Z",
     "shell.execute_reply.started": "2023-12-03T01:43:53.777480Z"
    }
   },
   "outputs": [],
   "source": [
    "cleaned_params = {\n",
    "    key.replace(\"LightGBM__\", \"\"): value\n",
    "    for key, value in random_search.best_params_.items()\n",
    "}\n",
    "final_lgbm = getPipe(\"LightGBM\", LGBMRegressor(**cleaned_params))"
   ]
  },
  {
   "cell_type": "code",
   "execution_count": 29,
   "metadata": {
    "execution": {
     "iopub.execute_input": "2023-12-03T01:43:53.789676Z",
     "iopub.status.busy": "2023-12-03T01:43:53.789178Z",
     "iopub.status.idle": "2023-12-03T01:43:56.242434Z",
     "shell.execute_reply": "2023-12-03T01:43:56.241156Z",
     "shell.execute_reply.started": "2023-12-03T01:43:53.789639Z"
    }
   },
   "outputs": [
    {
     "data": {
      "text/html": [
       "<style>#sk-container-id-2 {color: black;background-color: white;}#sk-container-id-2 pre{padding: 0;}#sk-container-id-2 div.sk-toggleable {background-color: white;}#sk-container-id-2 label.sk-toggleable__label {cursor: pointer;display: block;width: 100%;margin-bottom: 0;padding: 0.3em;box-sizing: border-box;text-align: center;}#sk-container-id-2 label.sk-toggleable__label-arrow:before {content: \"▸\";float: left;margin-right: 0.25em;color: #696969;}#sk-container-id-2 label.sk-toggleable__label-arrow:hover:before {color: black;}#sk-container-id-2 div.sk-estimator:hover label.sk-toggleable__label-arrow:before {color: black;}#sk-container-id-2 div.sk-toggleable__content {max-height: 0;max-width: 0;overflow: hidden;text-align: left;background-color: #f0f8ff;}#sk-container-id-2 div.sk-toggleable__content pre {margin: 0.2em;color: black;border-radius: 0.25em;background-color: #f0f8ff;}#sk-container-id-2 input.sk-toggleable__control:checked~div.sk-toggleable__content {max-height: 200px;max-width: 100%;overflow: auto;}#sk-container-id-2 input.sk-toggleable__control:checked~label.sk-toggleable__label-arrow:before {content: \"▾\";}#sk-container-id-2 div.sk-estimator input.sk-toggleable__control:checked~label.sk-toggleable__label {background-color: #d4ebff;}#sk-container-id-2 div.sk-label input.sk-toggleable__control:checked~label.sk-toggleable__label {background-color: #d4ebff;}#sk-container-id-2 input.sk-hidden--visually {border: 0;clip: rect(1px 1px 1px 1px);clip: rect(1px, 1px, 1px, 1px);height: 1px;margin: -1px;overflow: hidden;padding: 0;position: absolute;width: 1px;}#sk-container-id-2 div.sk-estimator {font-family: monospace;background-color: #f0f8ff;border: 1px dotted black;border-radius: 0.25em;box-sizing: border-box;margin-bottom: 0.5em;}#sk-container-id-2 div.sk-estimator:hover {background-color: #d4ebff;}#sk-container-id-2 div.sk-parallel-item::after {content: \"\";width: 100%;border-bottom: 1px solid gray;flex-grow: 1;}#sk-container-id-2 div.sk-label:hover label.sk-toggleable__label {background-color: #d4ebff;}#sk-container-id-2 div.sk-serial::before {content: \"\";position: absolute;border-left: 1px solid gray;box-sizing: border-box;top: 0;bottom: 0;left: 50%;z-index: 0;}#sk-container-id-2 div.sk-serial {display: flex;flex-direction: column;align-items: center;background-color: white;padding-right: 0.2em;padding-left: 0.2em;position: relative;}#sk-container-id-2 div.sk-item {position: relative;z-index: 1;}#sk-container-id-2 div.sk-parallel {display: flex;align-items: stretch;justify-content: center;background-color: white;position: relative;}#sk-container-id-2 div.sk-item::before, #sk-container-id-2 div.sk-parallel-item::before {content: \"\";position: absolute;border-left: 1px solid gray;box-sizing: border-box;top: 0;bottom: 0;left: 50%;z-index: -1;}#sk-container-id-2 div.sk-parallel-item {display: flex;flex-direction: column;z-index: 1;position: relative;background-color: white;}#sk-container-id-2 div.sk-parallel-item:first-child::after {align-self: flex-end;width: 50%;}#sk-container-id-2 div.sk-parallel-item:last-child::after {align-self: flex-start;width: 50%;}#sk-container-id-2 div.sk-parallel-item:only-child::after {width: 0;}#sk-container-id-2 div.sk-dashed-wrapped {border: 1px dashed gray;margin: 0 0.4em 0.5em 0.4em;box-sizing: border-box;padding-bottom: 0.4em;background-color: white;}#sk-container-id-2 div.sk-label label {font-family: monospace;font-weight: bold;display: inline-block;line-height: 1.2em;}#sk-container-id-2 div.sk-label-container {text-align: center;}#sk-container-id-2 div.sk-container {/* jupyter's `normalize.less` sets `[hidden] { display: none; }` but bootstrap.min.css set `[hidden] { display: none !important; }` so we also need the `!important` here to be able to override the default hidden behavior on the sphinx rendered scikit-learn.org. See: https://github.com/scikit-learn/scikit-learn/issues/21755 */display: inline-block !important;position: relative;}#sk-container-id-2 div.sk-text-repr-fallback {display: none;}</style><div id=\"sk-container-id-2\" class=\"sk-top-container\"><div class=\"sk-text-repr-fallback\"><pre>Pipeline(steps=[(&#x27;preprocessing&#x27;,\n",
       "                 ColumnTransformer(remainder=&#x27;passthrough&#x27;,\n",
       "                                   transformers=[(&#x27;label_enc&#x27;,\n",
       "                                                  OrdinalEncoder(categories=[[&#x27;Manual&#x27;,\n",
       "                                                                              &#x27;Semi-Auto&#x27;,\n",
       "                                                                              &#x27;Automatic&#x27;]]),\n",
       "                                                  [&#x27;transmission&#x27;]),\n",
       "                                                 (&#x27;onehot_enc&#x27;, OneHotEncoder(),\n",
       "                                                  [&#x27;brand&#x27;, &#x27;fuelType&#x27;]),\n",
       "                                                 (&#x27;scale_trans&#x27;,\n",
       "                                                  StandardScaler(),\n",
       "                                                  [&#x27;mileage&#x27;, &#x27;tax&#x27;, &#x27;mpg&#x27;,\n",
       "                                                   &#x27;engineSize&#x27;])])),\n",
       "                (&#x27;LightGBM&#x27;,\n",
       "                 LGBMRegressor(colsample_bytree=0.9, learning_rate=0.2,\n",
       "                               max_depth=20, min_child_samples=1,\n",
       "                               num_leaves=100, reg_alpha=0.01,\n",
       "                               subsample=0.8))])</pre><b>In a Jupyter environment, please rerun this cell to show the HTML representation or trust the notebook. <br />On GitHub, the HTML representation is unable to render, please try loading this page with nbviewer.org.</b></div><div class=\"sk-container\" hidden><div class=\"sk-item sk-dashed-wrapped\"><div class=\"sk-label-container\"><div class=\"sk-label sk-toggleable\"><input class=\"sk-toggleable__control sk-hidden--visually\" id=\"sk-estimator-id-12\" type=\"checkbox\" ><label for=\"sk-estimator-id-12\" class=\"sk-toggleable__label sk-toggleable__label-arrow\">Pipeline</label><div class=\"sk-toggleable__content\"><pre>Pipeline(steps=[(&#x27;preprocessing&#x27;,\n",
       "                 ColumnTransformer(remainder=&#x27;passthrough&#x27;,\n",
       "                                   transformers=[(&#x27;label_enc&#x27;,\n",
       "                                                  OrdinalEncoder(categories=[[&#x27;Manual&#x27;,\n",
       "                                                                              &#x27;Semi-Auto&#x27;,\n",
       "                                                                              &#x27;Automatic&#x27;]]),\n",
       "                                                  [&#x27;transmission&#x27;]),\n",
       "                                                 (&#x27;onehot_enc&#x27;, OneHotEncoder(),\n",
       "                                                  [&#x27;brand&#x27;, &#x27;fuelType&#x27;]),\n",
       "                                                 (&#x27;scale_trans&#x27;,\n",
       "                                                  StandardScaler(),\n",
       "                                                  [&#x27;mileage&#x27;, &#x27;tax&#x27;, &#x27;mpg&#x27;,\n",
       "                                                   &#x27;engineSize&#x27;])])),\n",
       "                (&#x27;LightGBM&#x27;,\n",
       "                 LGBMRegressor(colsample_bytree=0.9, learning_rate=0.2,\n",
       "                               max_depth=20, min_child_samples=1,\n",
       "                               num_leaves=100, reg_alpha=0.01,\n",
       "                               subsample=0.8))])</pre></div></div></div><div class=\"sk-serial\"><div class=\"sk-item sk-dashed-wrapped\"><div class=\"sk-label-container\"><div class=\"sk-label sk-toggleable\"><input class=\"sk-toggleable__control sk-hidden--visually\" id=\"sk-estimator-id-13\" type=\"checkbox\" ><label for=\"sk-estimator-id-13\" class=\"sk-toggleable__label sk-toggleable__label-arrow\">preprocessing: ColumnTransformer</label><div class=\"sk-toggleable__content\"><pre>ColumnTransformer(remainder=&#x27;passthrough&#x27;,\n",
       "                  transformers=[(&#x27;label_enc&#x27;,\n",
       "                                 OrdinalEncoder(categories=[[&#x27;Manual&#x27;,\n",
       "                                                             &#x27;Semi-Auto&#x27;,\n",
       "                                                             &#x27;Automatic&#x27;]]),\n",
       "                                 [&#x27;transmission&#x27;]),\n",
       "                                (&#x27;onehot_enc&#x27;, OneHotEncoder(),\n",
       "                                 [&#x27;brand&#x27;, &#x27;fuelType&#x27;]),\n",
       "                                (&#x27;scale_trans&#x27;, StandardScaler(),\n",
       "                                 [&#x27;mileage&#x27;, &#x27;tax&#x27;, &#x27;mpg&#x27;, &#x27;engineSize&#x27;])])</pre></div></div></div><div class=\"sk-parallel\"><div class=\"sk-parallel-item\"><div class=\"sk-item\"><div class=\"sk-label-container\"><div class=\"sk-label sk-toggleable\"><input class=\"sk-toggleable__control sk-hidden--visually\" id=\"sk-estimator-id-14\" type=\"checkbox\" ><label for=\"sk-estimator-id-14\" class=\"sk-toggleable__label sk-toggleable__label-arrow\">label_enc</label><div class=\"sk-toggleable__content\"><pre>[&#x27;transmission&#x27;]</pre></div></div></div><div class=\"sk-serial\"><div class=\"sk-item\"><div class=\"sk-estimator sk-toggleable\"><input class=\"sk-toggleable__control sk-hidden--visually\" id=\"sk-estimator-id-15\" type=\"checkbox\" ><label for=\"sk-estimator-id-15\" class=\"sk-toggleable__label sk-toggleable__label-arrow\">OrdinalEncoder</label><div class=\"sk-toggleable__content\"><pre>OrdinalEncoder(categories=[[&#x27;Manual&#x27;, &#x27;Semi-Auto&#x27;, &#x27;Automatic&#x27;]])</pre></div></div></div></div></div></div><div class=\"sk-parallel-item\"><div class=\"sk-item\"><div class=\"sk-label-container\"><div class=\"sk-label sk-toggleable\"><input class=\"sk-toggleable__control sk-hidden--visually\" id=\"sk-estimator-id-16\" type=\"checkbox\" ><label for=\"sk-estimator-id-16\" class=\"sk-toggleable__label sk-toggleable__label-arrow\">onehot_enc</label><div class=\"sk-toggleable__content\"><pre>[&#x27;brand&#x27;, &#x27;fuelType&#x27;]</pre></div></div></div><div class=\"sk-serial\"><div class=\"sk-item\"><div class=\"sk-estimator sk-toggleable\"><input class=\"sk-toggleable__control sk-hidden--visually\" id=\"sk-estimator-id-17\" type=\"checkbox\" ><label for=\"sk-estimator-id-17\" class=\"sk-toggleable__label sk-toggleable__label-arrow\">OneHotEncoder</label><div class=\"sk-toggleable__content\"><pre>OneHotEncoder()</pre></div></div></div></div></div></div><div class=\"sk-parallel-item\"><div class=\"sk-item\"><div class=\"sk-label-container\"><div class=\"sk-label sk-toggleable\"><input class=\"sk-toggleable__control sk-hidden--visually\" id=\"sk-estimator-id-18\" type=\"checkbox\" ><label for=\"sk-estimator-id-18\" class=\"sk-toggleable__label sk-toggleable__label-arrow\">scale_trans</label><div class=\"sk-toggleable__content\"><pre>[&#x27;mileage&#x27;, &#x27;tax&#x27;, &#x27;mpg&#x27;, &#x27;engineSize&#x27;]</pre></div></div></div><div class=\"sk-serial\"><div class=\"sk-item\"><div class=\"sk-estimator sk-toggleable\"><input class=\"sk-toggleable__control sk-hidden--visually\" id=\"sk-estimator-id-19\" type=\"checkbox\" ><label for=\"sk-estimator-id-19\" class=\"sk-toggleable__label sk-toggleable__label-arrow\">StandardScaler</label><div class=\"sk-toggleable__content\"><pre>StandardScaler()</pre></div></div></div></div></div></div><div class=\"sk-parallel-item\"><div class=\"sk-item\"><div class=\"sk-label-container\"><div class=\"sk-label sk-toggleable\"><input class=\"sk-toggleable__control sk-hidden--visually\" id=\"sk-estimator-id-20\" type=\"checkbox\" ><label for=\"sk-estimator-id-20\" class=\"sk-toggleable__label sk-toggleable__label-arrow\">remainder</label><div class=\"sk-toggleable__content\"><pre>[&#x27;year&#x27;]</pre></div></div></div><div class=\"sk-serial\"><div class=\"sk-item\"><div class=\"sk-estimator sk-toggleable\"><input class=\"sk-toggleable__control sk-hidden--visually\" id=\"sk-estimator-id-21\" type=\"checkbox\" ><label for=\"sk-estimator-id-21\" class=\"sk-toggleable__label sk-toggleable__label-arrow\">passthrough</label><div class=\"sk-toggleable__content\"><pre>passthrough</pre></div></div></div></div></div></div></div></div><div class=\"sk-item\"><div class=\"sk-estimator sk-toggleable\"><input class=\"sk-toggleable__control sk-hidden--visually\" id=\"sk-estimator-id-22\" type=\"checkbox\" ><label for=\"sk-estimator-id-22\" class=\"sk-toggleable__label sk-toggleable__label-arrow\">LGBMRegressor</label><div class=\"sk-toggleable__content\"><pre>LGBMRegressor(colsample_bytree=0.9, learning_rate=0.2, max_depth=20,\n",
       "              min_child_samples=1, num_leaves=100, reg_alpha=0.01,\n",
       "              subsample=0.8)</pre></div></div></div></div></div></div></div>"
      ],
      "text/plain": [
       "Pipeline(steps=[('preprocessing',\n",
       "                 ColumnTransformer(remainder='passthrough',\n",
       "                                   transformers=[('label_enc',\n",
       "                                                  OrdinalEncoder(categories=[['Manual',\n",
       "                                                                              'Semi-Auto',\n",
       "                                                                              'Automatic']]),\n",
       "                                                  ['transmission']),\n",
       "                                                 ('onehot_enc', OneHotEncoder(),\n",
       "                                                  ['brand', 'fuelType']),\n",
       "                                                 ('scale_trans',\n",
       "                                                  StandardScaler(),\n",
       "                                                  ['mileage', 'tax', 'mpg',\n",
       "                                                   'engineSize'])])),\n",
       "                ('LightGBM',\n",
       "                 LGBMRegressor(colsample_bytree=0.9, learning_rate=0.2,\n",
       "                               max_depth=20, min_child_samples=1,\n",
       "                               num_leaves=100, reg_alpha=0.01,\n",
       "                               subsample=0.8))])"
      ]
     },
     "execution_count": 29,
     "metadata": {},
     "output_type": "execute_result"
    }
   ],
   "source": [
    "final_lgbm.fit(X, y)"
   ]
  },
  {
   "cell_type": "code",
   "execution_count": 30,
   "metadata": {
    "execution": {
     "iopub.execute_input": "2023-12-03T01:43:56.250611Z",
     "iopub.status.busy": "2023-12-03T01:43:56.250156Z",
     "iopub.status.idle": "2023-12-03T01:43:56.282163Z",
     "shell.execute_reply": "2023-12-03T01:43:56.280766Z",
     "shell.execute_reply.started": "2023-12-03T01:43:56.250575Z"
    }
   },
   "outputs": [],
   "source": [
    "with open(\"final_lgbm_model2.pkl\", \"wb\") as file:\n",
    "    pickle.dump(final_lgbm, file)"
   ]
  },
  {
   "cell_type": "code",
   "execution_count": 31,
   "metadata": {
    "execution": {
     "iopub.execute_input": "2023-12-03T01:43:56.376443Z",
     "iopub.status.busy": "2023-12-03T01:43:56.375442Z",
     "iopub.status.idle": "2023-12-03T01:43:56.388811Z",
     "shell.execute_reply": "2023-12-03T01:43:56.387268Z",
     "shell.execute_reply.started": "2023-12-03T01:43:56.376408Z"
    }
   },
   "outputs": [],
   "source": [
    "data = {\n",
    "    \"year\": [2023],\n",
    "    \"transmission\": [\"Manual\"],\n",
    "    \"mileage\": [20000],\n",
    "    \"fuelType\": [\"Petrol\"],\n",
    "    \"tax\": [0],\n",
    "    \"mpg\": [12.0],\n",
    "    \"engineSize\": [1.0],\n",
    "    \"brand\": [\"audi\"],\n",
    "    \"price\": [10000],\n",
    "}\n",
    "\n",
    "temp = pd.DataFrame(data)"
   ]
  },
  {
   "cell_type": "code",
   "execution_count": 32,
   "metadata": {
    "execution": {
     "iopub.execute_input": "2023-12-03T01:43:56.392098Z",
     "iopub.status.busy": "2023-12-03T01:43:56.391713Z",
     "iopub.status.idle": "2023-12-03T01:43:56.458956Z",
     "shell.execute_reply": "2023-12-03T01:43:56.457557Z",
     "shell.execute_reply.started": "2023-12-03T01:43:56.392067Z"
    }
   },
   "outputs": [
    {
     "name": "stdout",
     "output_type": "stream",
     "text": [
      "Top 3 Similar Rows:\n",
      "      year  price transmission  mileage fuelType  tax   mpg  engineSize brand\n",
      "9788    25   4999    Automatic    55000   Petrol  265  30.4         1.8  audi\n",
      "9945    11  14900    Automatic    30100   Petrol  165  45.6         2.0  audi\n",
      "8182    19   4689    Automatic    28477   Petrol  305  36.2         1.6  audi\n"
     ]
    }
   ],
   "source": [
    "cat_data = {\"transmission\": [\"Automatic\"], \"fuelType\": [\"Petrol\"], \"brand\": [\"audi\"]}\n",
    "\n",
    "num_data = {\n",
    "    \"year\": [5],\n",
    "    \"price\": [10000],\n",
    "    \"mileage\": [20000],\n",
    "    \"tax\": [0],\n",
    "    \"mpg\": [12.0],\n",
    "    \"engineSize\": [1.0],\n",
    "}\n",
    "userInp = pd.DataFrame(num_data)\n",
    "temp_df = df.copy()\n",
    "temp_df = temp_df.drop(\"model\", axis=1)\n",
    "for i in cat_data.keys():\n",
    "    temp_df = temp_df[temp_df[i] == cat_data[i][0]]\n",
    "temp_df_full = temp_df.copy()\n",
    "for i in cat_data.keys():\n",
    "    temp_df = temp_df.drop(i, axis=1)\n",
    "temp_df[\"year\"] = 2023 - temp_df[\"year\"]\n",
    "scaler = StandardScaler()\n",
    "temp_dfX = scaler.fit_transform(temp_df)\n",
    "userInpX = scaler.transform(userInp)\n",
    "similarity_scores = cosine_similarity(temp_dfX, userInpX)\n",
    "top3_indices = similarity_scores.flatten().argsort()[-3:][::-1]\n",
    "top3_rows = temp_df_full.iloc[top3_indices]\n",
    "print(\"Top 3 Similar Rows:\")\n",
    "print(top3_rows)"
   ]
  }
 ],
 "metadata": {
  "kaggle": {
   "accelerator": "none",
   "dataSources": [
    {
     "datasetId": 750216,
     "sourceId": 1305559,
     "sourceType": "datasetVersion"
    }
   ],
   "dockerImageVersionId": 30587,
   "isGpuEnabled": false,
   "isInternetEnabled": true,
   "language": "python",
   "sourceType": "notebook"
  },
  "kernelspec": {
   "display_name": "Python 3 (ipykernel)",
   "language": "python",
   "name": "python3"
  },
  "language_info": {
   "codemirror_mode": {
    "name": "ipython",
    "version": 3
   },
   "file_extension": ".py",
   "mimetype": "text/x-python",
   "name": "python",
   "nbconvert_exporter": "python",
   "pygments_lexer": "ipython3",
   "version": "3.10.9"
  }
 },
 "nbformat": 4,
 "nbformat_minor": 4
}
